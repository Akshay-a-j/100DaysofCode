{
  "nbformat": 4,
  "nbformat_minor": 0,
  "metadata": {
    "colab": {
      "name": "LinearRegression.ipynb",
      "provenance": [],
      "authorship_tag": "ABX9TyPmuzFtuAuzXYW8JuKjNWqM",
      "include_colab_link": true
    },
    "kernelspec": {
      "name": "python3",
      "display_name": "Python 3"
    },
    "language_info": {
      "name": "python"
    }
  },
  "cells": [
    {
      "cell_type": "markdown",
      "metadata": {
        "id": "view-in-github",
        "colab_type": "text"
      },
      "source": [
        "<a href=\"https://colab.research.google.com/github/Akshay-a-j/100DaysofCode/blob/main/Machine%20Learning/Regression/LinearRegression.ipynb\" target=\"_parent\"><img src=\"https://colab.research.google.com/assets/colab-badge.svg\" alt=\"Open In Colab\"/></a>"
      ]
    },
    {
      "cell_type": "markdown",
      "metadata": {
        "id": "LuY2qDYAluoY"
      },
      "source": [
        "#Importing libraries"
      ]
    },
    {
      "cell_type": "code",
      "metadata": {
        "id": "inkw_obYlkPf"
      },
      "source": [
        "\n",
        "import numpy as np\n",
        "import pandas as pd\n",
        "import matplotlib.pyplot as plt\n",
        "import seaborn as sns\n",
        "from sklearn.model_selection import train_test_split\n",
        "from sklearn import preprocessing, linear_model, metrics"
      ],
      "execution_count": null,
      "outputs": []
    },
    {
      "cell_type": "markdown",
      "metadata": {
        "id": "fn2g3qqhlqeE"
      },
      "source": [
        "#Load and read data"
      ]
    },
    {
      "cell_type": "code",
      "metadata": {
        "id": "sX1FtZIblprl"
      },
      "source": [
        "df = pd.read_csv(\"/home/sysad/Desktop/akshay/Histopathology/Programs/100DaysofCode/insurance.csv\")\n",
        "df.isnull().sum()\n",
        "df.info()\n",
        "\n",
        "#seperating categorical and continuous variables\n",
        "cat = []\n",
        "cont = []\n",
        "for col in df.columns:\n",
        "    if df[col].dtype == 'object':\n",
        "        cat.append(col)\n",
        "    else:\n",
        "        cont.append(col)\n",
        "print(\"Catagorical variables are: \", cat)\n",
        "print(\"Continuous variables are: \", cont)"
      ],
      "execution_count": null,
      "outputs": []
    },
    {
      "cell_type": "markdown",
      "metadata": {
        "id": "hq23uoyclzjP"
      },
      "source": [
        "#Plots"
      ]
    },
    {
      "cell_type": "code",
      "metadata": {
        "id": "XBobZirFkEyy"
      },
      "source": [
        "\n",
        "#%%Plots    \n",
        "sns.countplot(df.smoker, hue= df.sex)\n",
        "plt.show()create new env in conda on ubuntu\n",
        "\n",
        "df.groupby(['smoker'])['sex'].value_counts()\n",
        "\n",
        "plt.figure(figsize=(8,6))\n",
        "sns.barplot(x= df.region, y= df.charges, hue= df.smoker )\n",
        "plt.show()\n",
        "\n",
        "sns.distplot(df[df['smoker'] == 'yes'].charges, color='r')\n",
        "plt.show()\n",
        "\n",
        "sns.distplot(df[df['smoker']=='no'].charges, color='b')\n",
        "plt.show()\n",
        "'''we can see that those who smokes incus more charages compared to those who do not'''\n",
        "\n",
        "sns.scatterplot(x=df.age, y= df.charges, hue=df.smoker)\n",
        "plt.show()\n",
        "\n",
        "sns.violinplot(x=df.region, y= df.charges, hue=df.smoker, split=True)\n",
        "plt.show()\n",
        "\n",
        "sns.histplot(x=df.bmi)\n",
        "plt.show()\n",
        "\n",
        "sns.distplot(x=df.bmi)\n",
        "plt.show()\n",
        "\n",
        "plt.figure(figsize=(8,8))\n",
        "sns.jointplot(x = df.bmi, y = df.charges, hue = df.children)\n",
        "plt.show()\n",
        "\n",
        "plt.figure(figsize=(8,8))\n",
        "sns.jointplot(x = df.bmi, y = df.charges, hue = df.smoker)\n",
        "plt.show()\n",
        "\n",
        "plt.figure(figsize=(8,6))\n",
        "sns.scatterplot(x = df.bmi, y=df.charges, hue = df.smoker)\n",
        "plt.show()"
      ],
      "execution_count": null,
      "outputs": []
    },
    {
      "cell_type": "markdown",
      "metadata": {
        "id": "-Mg8EPrWmF9f"
      },
      "source": [
        "##Label Encoder\n",
        "*   Conversion of categorical value to continuos value between 0 and n_classes-1 using **LABEL ENCODING**'.\n",
        "\n",
        "*   But here, region has multiple values in the same column. Model may assume that there is some kind of ordering (0 < 1 < 2 < 3) exists in the data. So, to overcome this problem we use **OneHotEncoding** which converts categorical data into 1's and 0's. \n",
        "\n",
        "*   **OneHotEncoder** converts given *n-categorical* data in to *n-columns* for each category and represnts data in i's and 0's.\n",
        "\n",
        "\n",
        "*   Plotting **correlation** matrix. We can observe that Charges are dependent on both age and smoking habit of a person\n",
        "\n",
        "\n"
      ]
    },
    {
      "cell_type": "code",
      "metadata": {
        "id": "dJII6FfimFQn"
      },
      "source": [
        "for col in df.columns:\n",
        "    encoder = preprocessing.LabelEncoder()\n",
        "    encoder.fit(df[col])\n",
        "    df[col] = encoder.transform(df[col])\n",
        "df.describe()\n",
        "\n",
        "plt.figure(figsize=(6,6))\n",
        "sns.heatmap(df.corr(), annot=True)\n",
        "plt.show()"
      ],
      "execution_count": null,
      "outputs": []
    },
    {
      "cell_type": "code",
      "metadata": {
        "id": "874eBSAs7ztS"
      },
      "source": [
        "# from sklearn.preprocessing import OneHotEncoder\n",
        "# onehotencoder = OneHotEncoder()\n",
        "# df = onehotencoder.fit_transform(df).toarray()"
      ],
      "execution_count": null,
      "outputs": []
    },
    {
      "cell_type": "code",
      "metadata": {
        "id": "t7Ywh9i1mobZ"
      },
      "source": [
        "X = df.drop(['charges'], axis=1)\n",
        "Y = df['charges']\n",
        "X_train, X_test, Y_train, Y_test = train_test_split(X, Y, train_size=0.75, random_state=0, shuffle=True)\n"
      ],
      "execution_count": null,
      "outputs": []
    },
    {
      "cell_type": "markdown",
      "metadata": {
        "id": "6NQQLdiimpi9"
      },
      "source": [
        "##minmaxscaler() \n",
        "is used to to scale and translate each feature individually s.t. it is in given range(usually between zero and one). This is an alternative to zero mean , unit variance scaling.\n",
        "*   *x_std* = $\\frac{(x - x_{min})}{(x_{max} - x_{min})}$ \\\\\n",
        "\n",
        "\n",
        "*   *x_sclaed* = *x_std* * (*max* - *min*) + *min*\n",
        "\n"
      ]
    },
    {
      "cell_type": "code",
      "metadata": {
        "id": "4But7o6bmCnP"
      },
      "source": [
        "scaler = preprocessing.MinMaxScaler()\n",
        "scaler.fit(X_train)\n",
        "X_train = scaler.transform(X_train)\n",
        "X_test = scaler.transform(X_test) "
      ],
      "execution_count": null,
      "outputs": []
    },
    {
      "cell_type": "markdown",
      "metadata": {
        "id": "mre0PLUtnKrQ"
      },
      "source": [
        "##Linear Regression\n",
        "Is method to predict $\\mathcal{y}$ from a vector of input variables $\\mathcal{x} \\in \\mathcal{R}^{n}$. For example, we are given mobile features $\\mathcal{x}^{(\\mathcal{i})}$ and corresponding mobile price  **$\\mathcal{y}^{(\\mathcal{i})}$**, then our goal is to find   $\\mathcal{y} = \\mathcal{h}(\\mathcal{x})$  using  $\\mathcal{y}^{(\\mathcal{i})} = \\mathcal{x}^{(\\mathcal{i})}$  training samples. \\\\\n",
        "\n",
        "Lets define our  $\\mathcal{h}(\\mathcal{x})$ to find function $\\mathcal{h}(\\mathcal{x})$ s.t. $\\mathcal{y}^{(\\mathcal{i})} = \\mathcal{x}^{(\\mathcal{i})}$ . \\\\\n",
        "\n",
        "Lets use linear function where, \\\\\n",
        "\n",
        " $\\mathcal{h}_{\\mathcal{w}}(\\mathcal{x})$ = $\\sum_{j}\\mathcal{w}_{j}\\mathcal{x}_{j}$ = $\\mathcal{w}^{\\intercal}\\mathcal{x}$. \\\\\n",
        "\n",
        "So, our task here is to find the best  $\\mathcal{w}$  s.t.  $\\mathcal{h}_{\\mathcal{w}}(\\mathcal{x^{i}})$ is as close as to $\\mathcal{y}^{(\\mathcal{i})}$. \\\\\n",
        "\n",
        "Basically we will try to find   $\\mathcal{w}$ that **minimizes** : \\\\\n",
        "\n",
        "$\\mathcal{L({\\theta})}$ = $\\frac{1}{2}$ $\\sum_{i}$ ($(\\mathcal{h}_{\\mathcal{w}}(\\mathcal{x^{i}})$ -$ \\mathcal{y}^{(\\mathcal{i})}$)$^{2}$ = $\\frac{1}{2}$ $\\sum_{i}$ ($(\\mathcal{w}^{\\intercal}\\mathcal{x}_{i})$ -$ \\mathcal{y}^{(\\mathcal{i})}$)$^{2}$. \\\\\n",
        "\n",
        "The above function is called as \"**cost function**\" or \"**Loss function**\" which measure the difference (error) in predicting  $\\mathcal{y}^{(\\mathcal{i})}$ for a particular choice of $\\mathcal{w}$. \\\\\n",
        "\n",
        "Check this [link](https://cs.stanford.edu/~ermon/cs325/slides/ml_linear_reg.pdf) for more information.\n",
        "\n",
        "\n"
      ]
    },
    {
      "cell_type": "code",
      "metadata": {
        "id": "_O_I68XLnDbK"
      },
      "source": [
        "linreg = linear_model.LinearRegression()\n",
        "linreg.fit(X_train, Y_train)\n",
        "Y_pred = linreg.predict(X_test)\n",
        "   \n",
        "print(\"Linear regression score :\", linreg.score(X_test, Y_test))\n",
        "print(\"Mean square error is :\", metrics.mean_squared_error(Y_test, Y_pred))\n",
        "print(\"mean absolute error :\", metrics.mean_absolute_error(Y_test, Y_pred))"
      ],
      "execution_count": null,
      "outputs": []
    }
  ]
}